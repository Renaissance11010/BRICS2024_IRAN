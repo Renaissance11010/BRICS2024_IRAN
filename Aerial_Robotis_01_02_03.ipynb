{
 "cells": [
  {
   "cell_type": "markdown",
   "id": "a4e46254",
   "metadata": {},
   "source": [
    "# Report of Module A: Planning"
   ]
  },
  {
   "cell_type": "markdown",
   "id": "e221def8",
   "metadata": {},
   "source": [
    "## Project name: Arial Robotics Swarming (== meeting predefined setpoints offboardly)"
   ]
  },
  {
   "cell_type": "markdown",
   "id": "187ac796",
   "metadata": {},
   "source": [
    "# Description of the project:\n",
    "\n",
    "### meeting predefined setpoints offboardly for a collection of quadcopters\n",
    "\n",
    "##### in this project, our mission is to fly several quadcopters collectively and perform formation operations while flying and sitting at the desired locations.  After we create paths in a software like blender+skybrush, a large number of set points are created that contain position information at any given time. In order to be able to give this data as input to the autopilot, we also need to obtain the initial velocity at each point. To do this, we use a derivative rule. In this derivation method, we use finite differences of the first order, and by deriving from position coordinates, we get the velocity. We consider the initial velocity to be zero for the first derivative at the initial position. Now we update the obtained data as below.\n",
    "\n",
    "###### (time, position) → (time, position, velocity)\n",
    "\n",
    "\n",
    "###### We send this data to the autopilot through mavsdk. Note that we choose the yaw value equal to a fixed number. This is for that the quads do not rotate inward during movement  and does not spins.  \n",
    "\n",
    "###### Because we want the equipment to be cheap and the implementation done with the least use of companion computers, so the stack we use is just a GPS module, and our communication link protocol is mavsdk. Our platform is px4+piwhawk. "
   ]
  },
  {
   "cell_type": "markdown",
   "id": "3b16ee9d",
   "metadata": {},
   "source": [
    "### 1 - Studying the topics of the hackathon and requirements for projects\n",
    "\n",
    "#### After reading the 5th Hachaton task, we decide to compete in the earial robotic section on the swarm field.  "
   ]
  },
  {
   "cell_type": "markdown",
   "id": "acbf22ec",
   "metadata": {},
   "source": [
    "### 2 - Formation of the project idea, formulation of the problem/hypothesis\n",
    "\n",
    "#### Illustrative control on a multi-agent system is the formation of the project.\n",
    "\n",
    "#### Formation of the problem:\n",
    "\n",
    "#### 1  - developing s simple algorithm for deriving the velocity from position. \n",
    "#### 2 - developing a code for an arbitrary spawning of drones in gazebo.\n",
    "#### 3 - developing a script for opening arbitrary  terminals for mavsdk_server simultanously. \n",
    "#### 4 - developing a COMPLETE code to solve the problem. |"
   ]
  },
  {
   "cell_type": "markdown",
   "id": "c31c0b2c",
   "metadata": {},
   "source": [
    "### 3 - Studying the necessary materials and becoming familiar with the equipment\n",
    "\n",
    "#### 1 - pixhawk + px4\n",
    "#### 2 - mavsdk-python\n",
    "#### 3 - blender+skybrush\n",
    "#### 4 - bash scripting\n",
    "#### 5 - mathematics"
   ]
  },
  {
   "cell_type": "markdown",
   "id": "e07b0a53",
   "metadata": {},
   "source": [
    "### 4 - Selecting the most promising idea for implementation\n",
    "\n",
    "#### Gathering a list of setpoints from blender+skybrush and extracting velocity vectors in 3d usipng a derivative function. Then, pushing the setpoints+velocity to px4 using mavsdk."
   ]
  },
  {
   "cell_type": "markdown",
   "id": "c71b25b3",
   "metadata": {},
   "source": [
    "### 5 - Search for possible solutions\n",
    "\n",
    "#### there are various methods to extract a series from setpoints and run a derivative function on them to extract the velocities. For example, solving a system of ordinary differential equations and using some shooting numerical methods to solve them in a realtime manner to extract geodesics. but, because of complex behaviour of them, we prefer to pick the simple derivative function using just first order Newton differentiation method. This method is converges always and is enough for our purpose. "
   ]
  },
  {
   "cell_type": "markdown",
   "id": "9c29c8e5",
   "metadata": {},
   "source": [
    "### 6 - Market analysis\n",
    "\n",
    "#### We dont analyze it yet. "
   ]
  },
  {
   "cell_type": "markdown",
   "id": "985695d4",
   "metadata": {},
   "source": [
    "### 7 - Discussion and clarification of the project concept with the organizers\n",
    "\n",
    "#### Our testbed and target was on px4+pixhawk. But, here we have px4+pixracer. But, we have a different problem in configuration and setup the hardware such as communication and GPS modules. In details, bacause our method is based on outdoor flight mode with good GPS precision, but we didnt have an acceptable HDOP and VDOP numbers for accepting mission mode. So, we prefer to work and complete the simulation mode.  "
   ]
  },
  {
   "cell_type": "markdown",
   "id": "53fcfd16",
   "metadata": {},
   "source": [
    "### 8 - Development of a work plan: distribution of roles and tasks between participants\n",
    "\n",
    "#### The team contains 3 peoples for completeing the tasks hardware, assembling & setup; and simulation software and code development. "
   ]
  },
  {
   "cell_type": "markdown",
   "id": "4fa91a5e",
   "metadata": {},
   "source": [
    "### 9 - Distribution of deadlines for completing individual tasks\n",
    "\n",
    "#### We have a different problem in configuration and setup the hardware such as communication and GPS modules, so in the first two days, we spent the time to adjust and solve the hardware issues. In details:\n",
    "\n",
    "#### The first day: We try to connect to 2 pixracers using two ESP32 module. Finally, we could make and setup the communication link. \n",
    "\n",
    "\n",
    "#### The second  day: We tried to add two GPS modules to the drones. We could see packet transferring between the QCG and drones. We dive into troubleshooting phase and tried some solutions such as magnetic calibration and tuning the systems. \n",
    "\n",
    "\n",
    "#### The third day: We  tried to outdoor pre-flight test in the presence of experts and saw the large H/VDOPs for GPS that can't do real flight with this large numbers (bigger than 6 and 7 alternatively). So, we switched to the simulatioon manner and start to  developing the code. Below, in section 10 is the starting point of simulation phase. "
   ]
  },
  {
   "cell_type": "markdown",
   "id": "0a82133b",
   "metadata": {},
   "source": [
    "### 10 - Writing requirements for the system/product being developed\n",
    "\n",
    "#### 10-1 first of all, we create paths in blender+skybrush. We make a fast tutorial to do it in a small time. You can find their links in the following urls:\n",
    "\n",
    "url1:\n",
    "url2: \n",
    "url3:\n",
    "\n",
    "#### Now, you have csv files exported from blender including setpoints of each drone. This data is the form (timestep, x, y, z, ...). We just need the (timestep, x, y, z) columns. \n",
    "\n",
    "#### Now, We are going to do some codes. For more than one drone, we should use mavsdk_server that is a program to bridge between the set of drones and a pre-reserved ports in the computer. \n",
    "\n",
    "#### For advanced cases: If you want to work on more than 10 drones, you should do some changes in the px4 source codes. We explain it in the last day. \n",
    "\n",
    "\n",
    "#### The first problem in gazebo is that when we want to work with more than one drone, we should use the script \n",
    "\n",
    "`sitl_multiple_run.sh` \n",
    "#### in the address \n",
    "`PX4-Autopilot/Tools/simulation/gazebo-classic`\n",
    "#### But, this script spawns the drones along a straight line. For an arbitrary spawn, we should this script that we developed it.  To use, add these lines at the preamble of the mentioned script.  You need to create a file `coords.txt` containing the 2D coordinates of each drone in a list of rows in this file. For example, `3 5 9`, means that drone number 3 is initiated in the local coordinates `[5, 9]`. You should run this command by the flag `-n <number_of_drones>`. \n"
   ]
  },
  {
   "cell_type": "raw",
   "id": "0022ec97",
   "metadata": {},
   "source": [
    "#!/bin/bash\n",
    "# run multiple instances of the 'px4' binary, with the gazebo SITL simulation\n",
    "# It assumes px4 is already built, with 'make px4_sitl_default sitl_gazebo-classic'\n",
    "\n",
    "# The simulator is expected to send to TCP port 4560+i for i in [0, N-1]\n",
    "# For example gazebo can be run like this:\n",
    "#./Tools/simulation/gazebo-classic/sitl_multiple_run.sh -n 10 -m iris\n",
    "\n",
    "\n",
    "#!/bin/bash\n",
    "\n",
    "## a file named `coords.txt` should be in the same directory containing the data like:\n",
    "## 1 5 5\n",
    "## 2 -5 5\n",
    "## 3 -5 -5\n",
    "## 4 5 -5\n",
    "## showing drone1 should be at x = 5, y = 5, etc. \n",
    "## run: ./esa_sitl_multiple_run.sh -n 4 -m iris\n",
    "\n",
    "current_row=1\n",
    "\n",
    "spawner() {\n",
    "  local file_path=$1\n",
    "  while IFS= read -r line; do\n",
    "    if [[ -z $line || $line == \"#\"* ]]; then\n",
    "      continue\n",
    "    fi\n",
    "    IFS=' ' read -ra columns <<< \"$line\"\n",
    "    \n",
    "    NN=${columns[0]}\n",
    "    XX=${columns[1]}\n",
    "    YY=${columns[2]}\n",
    "\n",
    "\n",
    "    N=$NN\n",
    "    X=$XX\n",
    "    Y=$YY\n",
    "\n",
    "    echo \"/\\/\\/\\/\\/\\/\\/\\/\\/\\/\\/\\/\\/\\/\\/\\/\\/\\/\\/\\/\\/\\/\\/\\/\\/\\/\\/\\/\\/\\/\\/\\/\\/\\/\\/\\/\\/\\/\"\n",
    "    echo \"$(basename \"$0\"): spawning info:: UAV number $N was placed in $X, $Y coordinates.\"\n",
    "    echo \"/\\/\\/\\/\\/\\/\\/\\/\\/\\/\\/\\/\\/\\/\\/\\/\\/\\/\\/\\/\\/\\/\\/\\/\\/\\/\\/\\/\\/\\/\\/\\/\\/\\/\\/\\/\\/\\/\"\n",
    "    \n",
    "    current_row=$((current_row + 1))\n",
    "\n",
    "    break\n",
    "  done < <(tail -n \"+$current_row\" \"$file_path\")\n",
    "}\n"
   ]
  },
  {
   "cell_type": "markdown",
   "id": "b0b3b4a0",
   "metadata": {},
   "source": [
    "#### Now, we need a script to handle the mavsdk_server in just a one terminal. We develop this code for that. "
   ]
  },
  {
   "cell_type": "raw",
   "id": "c174e811",
   "metadata": {},
   "source": [
    "#!/bin/bash\n",
    "## \n",
    "## To increase listening ports for n drones, do the following:\n",
    "## 1. go to the path: /PX4-Autopilot/build/px4_sitl_default/etc/init.d-posix\n",
    "## 2. open the file px4-rc.mavlink\n",
    "## 3. change the number 9 to the number n\n",
    "## 4. change the number 14549 to the number 14540+n\n",
    "## For example, if n==20, then change the 9 to 20 and 14549 to 14560\n",
    "## Always consider that the port 14550 is reserved. Do not use it never ever.\n",
    "## CAUTION: to have some weird personal test cases, ignore the case 14540 also and so, for a fixed n\n",
    "## you have n-1 drone. So, n==20, exactly means you have 19 drones.\n",
    "## This code is adapted for 10 drones. But, we open more ports to have easy access in emergency situations.\n",
    "## It actually, considers the UDP protocol. Dear Farbod, if you see this sentence, please aware me. We will edit it in HITL mode for datalink.\n",
    "## Should you run into any problem, see the mentioned file comments. If something digs your mind, just simply do a \n",
    "## `make clean` in the main directory of firmware and then go ahead.\n",
    "\n",
    "## Do not use any for-loop to compress the following dirty-codes. We need to justify the ports during the mission.\n",
    "\n",
    "commands=(\n",
    "\"./mavsdk_server -p 50041 udp://:14541\"        #01\n",
    "\"./mavsdk_server -p 50042 udp://:14542\"        #02\n",
    "\"./mavsdk_server -p 50043 udp://:14543\"        #03\n",
    "\"./mavsdk_server -p 50044 udp://:14544\"        #04\n",
    "\"./mavsdk_server -p 50045 udp://:14545\"        #05\n",
    "\"./mavsdk_server -p 50046 udp://:14546\"        #06\n",
    "\"./mavsdk_server -p 50047 udp://:14547\"        #07\n",
    "\"./mavsdk_server -p 50048 udp://:14548\"        #08\n",
    "\"./mavsdk_server -p 50049 udp://:14549\"        #09\n",
    "\"./mavsdk_server -p 50051 udp://:14551\"        #10\n",
    "\"./mavsdk_server -p 50052 udp://:14552\"        #11\n",
    "\"./mavsdk_server -p 50053 udp://:14553\"        #12\n",
    "\"./mavsdk_server -p 50054 udp://:14554\"        #13\n",
    "\"./mavsdk_server -p 50055 udp://:14555\"        #14\n",
    "\"./mavsdk_server -p 50056 udp://:14556\"        #15\n",
    "\"./mavsdk_server -p 50057 udp://:14557\"        #16\n",
    "\"./mavsdk_server -p 50058 udp://:14558\"        #17\n",
    "\"./mavsdk_server -p 50059 udp://:14559\"        #18\n",
    "\"./mavsdk_server -p 50060 udp://:14560\"        #19\n",
    ")\n",
    "\n",
    "\n",
    "for ((i=0; i<${#commands[@]}; i++))\n",
    "do\n",
    "  gnome-terminal --tab  -- bash -c \"${commands[i]}; exec bash\"\n",
    "done"
   ]
  },
  {
   "cell_type": "markdown",
   "id": "b9110179",
   "metadata": {},
   "source": []
  }
 ],
 "metadata": {
  "kernelspec": {
   "display_name": "Python 3 (ipykernel)",
   "language": "python",
   "name": "python3"
  },
  "language_info": {
   "codemirror_mode": {
    "name": "ipython",
    "version": 3
   },
   "file_extension": ".py",
   "mimetype": "text/x-python",
   "name": "python",
   "nbconvert_exporter": "python",
   "pygments_lexer": "ipython3",
   "version": "3.8.10"
  }
 },
 "nbformat": 4,
 "nbformat_minor": 5
}
